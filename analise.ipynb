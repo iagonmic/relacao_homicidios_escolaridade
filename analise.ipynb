{
 "cells": [
  {
   "cell_type": "code",
   "execution_count": 1,
   "metadata": {},
   "outputs": [],
   "source": [
    "#from pyreaddbc import readdbc\n",
    "\n",
    "#for i in range(2010, 2013):\n",
    "    #readdbc.dbc2dbf(f'data/DOPB{i}.DBC', f'data/DOPB{i}.DBF')"
   ]
  },
  {
   "cell_type": "code",
   "execution_count": 2,
   "metadata": {},
   "outputs": [
    {
     "name": "stdout",
     "output_type": "stream",
     "text": [
      "<loaded DBF table 'data\\\\DOPB2010.dbf'>\n",
      "<loaded DBF table 'data\\\\DOPB2011.dbf'>\n",
      "<loaded DBF table 'data\\\\DOPB2012.dbf'>\n",
      "<loaded DBF table 'data\\\\DOPB2013.dbf'>\n",
      "<loaded DBF table 'data\\\\DOPB2014.dbf'>\n",
      "<loaded DBF table 'data\\\\DOPB2015.dbf'>\n",
      "<loaded DBF table 'data\\\\DOPB2016.dbf'>\n",
      "<loaded DBF table 'data\\\\DOPB2017.dbf'>\n",
      "<loaded DBF table 'data\\\\DOPB2018.dbf'>\n",
      "<loaded DBF table 'data\\\\DOPB2019.dbf'>\n",
      "<loaded DBF table 'data\\\\DOPB2020.dbf'>\n",
      "<loaded DBF table 'data\\\\DOPB2021.dbf'>\n",
      "<loaded DBF table 'data\\\\DOPB2022.dbf'>\n"
     ]
    }
   ],
   "source": [
    "import pandas as pd\n",
    "from dbfread import DBF\n",
    "\n",
    "df_list = []\n",
    "\n",
    "for i in range(10, 23):\n",
    "    file = DBF(f'data/DOPB20{i}.dbf', load=True)\n",
    "    print(file)\n",
    "    df = pd.DataFrame(file)\n",
    "    df_list.append(df)"
   ]
  },
  {
   "cell_type": "code",
   "execution_count": 3,
   "metadata": {},
   "outputs": [
    {
     "data": {
      "text/plain": [
       "13"
      ]
     },
     "execution_count": 3,
     "metadata": {},
     "output_type": "execute_result"
    }
   ],
   "source": [
    "df_concat = pd.DataFrame()\n",
    "\n",
    "for df in df_list:\n",
    "    df_concat = pd.concat([df_concat, df])\n",
    "\n",
    "len(df_list)"
   ]
  },
  {
   "cell_type": "code",
   "execution_count": 4,
   "metadata": {},
   "outputs": [],
   "source": [
    "from numpy import nan\n",
    "\n",
    "columns = ['DTOBITO','CONTADOR','OCUP', 'HORAOBITO','NATURAL','CODMUNNATU','DTNASC','IDADE','SEXO','RACACOR','ESTCIV','ESC2010','CODMUNRES','LOCOCOR','CODMUNOCOR','CIRCOBITO','FONTE', 'TIPOBITO']\n",
    "\n",
    "df_hom = (df_concat\n",
    " .filter(columns)\n",
    " .drop_duplicates()\n",
    " .replace('', nan)\n",
    " .query('CIRCOBITO == \"3\"')\n",
    " .query('TIPOBITO == \"2\"')\n",
    " .astype({'ESC2010': float})\n",
    " .reset_index().drop('index', axis=1)\n",
    ")\n",
    "\n",
    "df_hom['DTOBITO'] = df_hom['DTOBITO'].apply(lambda x: x[-4:])"
   ]
  },
  {
   "cell_type": "code",
   "execution_count": 5,
   "metadata": {},
   "outputs": [
    {
     "data": {
      "text/plain": [
       "4353"
      ]
     },
     "execution_count": 5,
     "metadata": {},
     "output_type": "execute_result"
    }
   ],
   "source": [
    "qtd_linhas = df_concat.shape[0]\n",
    "\n",
    "(df_hom\n",
    " .query('ESC2010 == 9').shape[0] # possivel limitação devido ao 9 == ignorado\n",
    ")"
   ]
  },
  {
   "cell_type": "code",
   "execution_count": 6,
   "metadata": {},
   "outputs": [
    {
     "data": {
      "text/plain": [
       "ESC2010\n",
       "0.0     335\n",
       "1.0    2009\n",
       "2.0    1319\n",
       "3.0     505\n",
       "4.0      43\n",
       "5.0      85\n",
       "9.0    4353\n",
       "NaN    8189\n",
       "Name: CONTADOR, dtype: int64"
      ]
     },
     "execution_count": 6,
     "metadata": {},
     "output_type": "execute_result"
    }
   ],
   "source": [
    "(df_hom\n",
    " .groupby('ESC2010', dropna=False)['CONTADOR'].count()\n",
    " #.apply(lambda x: (x/qtd_linhas) * 100).sum()\n",
    ")"
   ]
  },
  {
   "cell_type": "code",
   "execution_count": 7,
   "metadata": {},
   "outputs": [
    {
     "data": {
      "text/plain": [
       "<Axes: xlabel='LOCOCOR'>"
      ]
     },
     "execution_count": 7,
     "metadata": {},
     "output_type": "execute_result"
    },
    {
     "data": {
      "image/png": "[encoded data removed]",
      "text/plain": [
       "<Figure size 640x480 with 1 Axes>"
      ]
     },
     "metadata": {},
     "output_type": "display_data"
    }
   ],
   "source": [
    "df_hom.groupby('LOCOCOR')['CONTADOR'].count().plot(kind='bar') # 4 - via pública é o maior"
   ]
  },
  {
   "cell_type": "code",
   "execution_count": 8,
   "metadata": {},
   "outputs": [
    {
     "data": {
      "text/plain": [
       "FONTE\n",
       "1      11530\n",
       "2         61\n",
       "3         18\n",
       "4        118\n",
       "9        151\n",
       "NaN     4960\n",
       "Name: CONTADOR, dtype: int64"
      ]
     },
     "execution_count": 8,
     "metadata": {},
     "output_type": "execute_result"
    }
   ],
   "source": [
    "df_hom.groupby('FONTE', dropna=False)['CONTADOR'].count()#.plot(kind='bar')#.sum()"
   ]
  },
  {
   "cell_type": "code",
   "execution_count": 9,
   "metadata": {},
   "outputs": [
    {
     "data": {
      "text/plain": [
       "54"
      ]
     },
     "execution_count": 9,
     "metadata": {},
     "output_type": "execute_result"
    }
   ],
   "source": [
    "(df_hom\n",
    " .reset_index()\n",
    " .drop('index', axis=1)\n",
    " .query(\"IDADE.str.startswith('4') == False\")\n",
    " .groupby('IDADE')['CONTADOR'].count().sum()\n",
    ") # 54 não tem idade definida (indigente ou cpf perdido...)"
   ]
  },
  {
   "cell_type": "code",
   "execution_count": 10,
   "metadata": {},
   "outputs": [
    {
     "data": {
      "text/plain": [
       "NATURAL\n",
       "8        1\n",
       "800    292\n",
       "812      1\n",
       "813      3\n",
       "815      2\n",
       "821      7\n",
       "822      2\n",
       "823     42\n",
       "824    169\n",
       "826    434\n",
       "827     18\n",
       "828      4\n",
       "829     26\n",
       "831      4\n",
       "833    108\n",
       "835    119\n",
       "841      4\n",
       "842      2\n",
       "85       3\n",
       "851      3\n",
       "852      1\n",
       "853     10\n",
       "Name: CONTADOR, dtype: int64"
      ]
     },
     "execution_count": 10,
     "metadata": {},
     "output_type": "execute_result"
    }
   ],
   "source": [
    "df_hom.query(\"NATURAL.str.startswith('8') and NATURAL != '999' and NATURAL.str.endswith('25') == False\").groupby('NATURAL')['CONTADOR'].count()"
   ]
  },
  {
   "cell_type": "code",
   "execution_count": 11,
   "metadata": {},
   "outputs": [
    {
     "data": {
      "text/plain": [
       "<Axes: xlabel='ESC2010'>"
      ]
     },
     "execution_count": 11,
     "metadata": {},
     "output_type": "execute_result"
    },
    {
     "data": {
      "image/png": "[encoded data removed]",
      "text/plain": [
       "<Figure size 640x480 with 1 Axes>"
      ]
     },
     "metadata": {},
     "output_type": "display_data"
    }
   ],
   "source": [
    "df_hom.groupby('ESC2010')['CONTADOR'].count().drop(9).plot(kind='bar')"
   ]
  },
  {
   "cell_type": "code",
   "execution_count": 12,
   "metadata": {},
   "outputs": [
    {
     "data": {
      "text/plain": [
       "DTOBITO\n",
       "2010    1364\n",
       "2011    1555\n",
       "2012    1460\n",
       "2013    1511\n",
       "2014    1521\n",
       "2015    1487\n",
       "2016    1301\n",
       "2017    1314\n",
       "2018    1201\n",
       "2019     861\n",
       "2020    1092\n",
       "2021    1099\n",
       "2022    1072\n",
       "Name: CONTADOR, dtype: int64"
      ]
     },
     "execution_count": 12,
     "metadata": {},
     "output_type": "execute_result"
    }
   ],
   "source": [
    "df_hom.groupby('DTOBITO')['CONTADOR'].count()"
   ]
  },
  {
   "cell_type": "markdown",
   "metadata": {},
   "source": [
    "# Leitura dos dados das populações"
   ]
  },
  {
   "cell_type": "code",
   "execution_count": 13,
   "metadata": {},
   "outputs": [
    {
     "data": {
      "text/plain": [
       "2001    3468594\n",
       "2002    3494893\n",
       "2003    3518595\n",
       "2004    3568350\n",
       "2005    3595886\n",
       "2006    3623215\n",
       "2007    3641397\n",
       "2008    3742606\n",
       "2009    3769977\n",
       "2010    3766834\n",
       "2011    3791315\n",
       "2012    3815171\n",
       "2013    3914421\n",
       "2014    3943885\n",
       "2015    3972202\n",
       "2016    3999415\n",
       "2017    4025558\n",
       "2018    3996496\n",
       "2019    4018127\n",
       "2020    4039277\n",
       "Name: 15, dtype: int32"
      ]
     },
     "execution_count": 13,
     "metadata": {},
     "output_type": "execute_result"
    }
   ],
   "source": [
    "pop0120 = pd.read_excel('data/pop0120.xls', header=4).iloc[15].drop('Unidades da Federação').astype(int)\n",
    "pop0120"
   ]
  },
  {
   "cell_type": "code",
   "execution_count": 14,
   "metadata": {},
   "outputs": [
    {
     "data": {
      "text/plain": [
       "2021    4059905\n",
       "Name: 15, dtype: int32"
      ]
     },
     "execution_count": 14,
     "metadata": {},
     "output_type": "execute_result"
    }
   ],
   "source": [
    "pop2021 = (pd.read_excel('data/pop2021.xls').iloc[15].rename({'Unnamed: 2': '2021'})\n",
    ".drop(['ESTIMATIVAS DA POPULAÇÃO RESIDENTE NO BRASIL E UNIDADES DA FEDERAÇÃO COM DATA DE REFERÊNCIA EM 1º DE JULHO DE 2021', 'Unnamed: 1'])).astype(int)\n",
    "pop2021"
   ]
  },
  {
   "cell_type": "code",
   "execution_count": 15,
   "metadata": {},
   "outputs": [
    {
     "data": {
      "text/plain": [
       "UF\n",
       "2022    3974687\n",
       "Name: POP. TOTAL, dtype: int32"
      ]
     },
     "execution_count": 15,
     "metadata": {},
     "output_type": "execute_result"
    }
   ],
   "source": [
    "pop2022 = pd.read_excel('data/pop2022.xlsx', header=2).drop('Unnamed: 0', axis=1).dropna(subset='COD. UF').query('UF == \"PB\"').groupby('UF')['POP. TOTAL'].sum().rename({'PB': 2022}).astype(int)\n",
    "pop2022"
   ]
  },
  {
   "cell_type": "markdown",
   "metadata": {},
   "source": [
    "# Juntando dados IBGE com SIM"
   ]
  },
  {
   "cell_type": "code",
   "execution_count": 16,
   "metadata": {},
   "outputs": [],
   "source": [
    "pop = pd.concat([pop0120, pop2021, pop2022])\n",
    "pop = pop.reset_index().rename(columns={'index': 'DTOBITO',0: 'POPULACAO'}).drop(range(0, 9)).reset_index().drop('index', axis=1)\n",
    "taxa_hom = df_hom.groupby('DTOBITO')['CONTADOR'].count().reset_index().rename(columns={'CONTADOR': 'HOMICIDIOS'})"
   ]
  },
  {
   "cell_type": "code",
   "execution_count": 17,
   "metadata": {},
   "outputs": [],
   "source": [
    "#display(pop)\n",
    "#display(taxa_hom)\n",
    "taxa_hom = taxa_hom.merge(pop, how='outer', left_index=True, right_index=True).drop('DTOBITO_y', axis=1).rename(columns={'DTOBITO_x': 'ANO'})"
   ]
  },
  {
   "cell_type": "code",
   "execution_count": 18,
   "metadata": {},
   "outputs": [
    {
     "data": {
      "text/html": [
       "<div>\n",
       "<style scoped>\n",
       "    .dataframe tbody tr th:only-of-type {\n",
       "        vertical-align: middle;\n",
       "    }\n",
       "\n",
       "    .dataframe tbody tr th {\n",
       "        vertical-align: top;\n",
       "    }\n",
       "\n",
       "    .dataframe thead th {\n",
       "        text-align: right;\n",
       "    }\n",
       "</style>\n",
       "<table border=\"1\" class=\"dataframe\">\n",
       "  <thead>\n",
       "    <tr style=\"text-align: right;\">\n",
       "      <th></th>\n",
       "      <th>ANO</th>\n",
       "      <th>HOMICIDIOS</th>\n",
       "      <th>POPULACAO</th>\n",
       "    </tr>\n",
       "  </thead>\n",
       "  <tbody>\n",
       "    <tr>\n",
       "      <th>0</th>\n",
       "      <td>2010</td>\n",
       "      <td>1364</td>\n",
       "      <td>3766834</td>\n",
       "    </tr>\n",
       "    <tr>\n",
       "      <th>1</th>\n",
       "      <td>2011</td>\n",
       "      <td>1555</td>\n",
       "      <td>3791315</td>\n",
       "    </tr>\n",
       "    <tr>\n",
       "      <th>2</th>\n",
       "      <td>2012</td>\n",
       "      <td>1460</td>\n",
       "      <td>3815171</td>\n",
       "    </tr>\n",
       "    <tr>\n",
       "      <th>3</th>\n",
       "      <td>2013</td>\n",
       "      <td>1511</td>\n",
       "      <td>3914421</td>\n",
       "    </tr>\n",
       "    <tr>\n",
       "      <th>4</th>\n",
       "      <td>2014</td>\n",
       "      <td>1521</td>\n",
       "      <td>3943885</td>\n",
       "    </tr>\n",
       "    <tr>\n",
       "      <th>5</th>\n",
       "      <td>2015</td>\n",
       "      <td>1487</td>\n",
       "      <td>3972202</td>\n",
       "    </tr>\n",
       "    <tr>\n",
       "      <th>6</th>\n",
       "      <td>2016</td>\n",
       "      <td>1301</td>\n",
       "      <td>3999415</td>\n",
       "    </tr>\n",
       "    <tr>\n",
       "      <th>7</th>\n",
       "      <td>2017</td>\n",
       "      <td>1314</td>\n",
       "      <td>4025558</td>\n",
       "    </tr>\n",
       "    <tr>\n",
       "      <th>8</th>\n",
       "      <td>2018</td>\n",
       "      <td>1201</td>\n",
       "      <td>3996496</td>\n",
       "    </tr>\n",
       "    <tr>\n",
       "      <th>9</th>\n",
       "      <td>2019</td>\n",
       "      <td>861</td>\n",
       "      <td>4018127</td>\n",
       "    </tr>\n",
       "    <tr>\n",
       "      <th>10</th>\n",
       "      <td>2020</td>\n",
       "      <td>1092</td>\n",
       "      <td>4039277</td>\n",
       "    </tr>\n",
       "    <tr>\n",
       "      <th>11</th>\n",
       "      <td>2021</td>\n",
       "      <td>1099</td>\n",
       "      <td>4059905</td>\n",
       "    </tr>\n",
       "    <tr>\n",
       "      <th>12</th>\n",
       "      <td>2022</td>\n",
       "      <td>1072</td>\n",
       "      <td>3974687</td>\n",
       "    </tr>\n",
       "  </tbody>\n",
       "</table>\n",
       "</div>"
      ],
      "text/plain": [
       "     ANO  HOMICIDIOS  POPULACAO\n",
       "0   2010        1364    3766834\n",
       "1   2011        1555    3791315\n",
       "2   2012        1460    3815171\n",
       "3   2013        1511    3914421\n",
       "4   2014        1521    3943885\n",
       "5   2015        1487    3972202\n",
       "6   2016        1301    3999415\n",
       "7   2017        1314    4025558\n",
       "8   2018        1201    3996496\n",
       "9   2019         861    4018127\n",
       "10  2020        1092    4039277\n",
       "11  2021        1099    4059905\n",
       "12  2022        1072    3974687"
      ]
     },
     "execution_count": 18,
     "metadata": {},
     "output_type": "execute_result"
    }
   ],
   "source": [
    "taxa_hom"
   ]
  },
  {
   "cell_type": "markdown",
   "metadata": {},
   "source": [
    "# Calculando taxa de homicídio"
   ]
  },
  {
   "cell_type": "code",
   "execution_count": 19,
   "metadata": {},
   "outputs": [
    {
     "data": {
      "text/html": [
       "<div>\n",
       "<style scoped>\n",
       "    .dataframe tbody tr th:only-of-type {\n",
       "        vertical-align: middle;\n",
       "    }\n",
       "\n",
       "    .dataframe tbody tr th {\n",
       "        vertical-align: top;\n",
       "    }\n",
       "\n",
       "    .dataframe thead th {\n",
       "        text-align: right;\n",
       "    }\n",
       "</style>\n",
       "<table border=\"1\" class=\"dataframe\">\n",
       "  <thead>\n",
       "    <tr style=\"text-align: right;\">\n",
       "      <th></th>\n",
       "      <th>ANO</th>\n",
       "      <th>HOMICIDIOS</th>\n",
       "      <th>POPULACAO</th>\n",
       "      <th>TAXA</th>\n",
       "    </tr>\n",
       "  </thead>\n",
       "  <tbody>\n",
       "    <tr>\n",
       "      <th>0</th>\n",
       "      <td>2010</td>\n",
       "      <td>1364</td>\n",
       "      <td>3766834</td>\n",
       "      <td>36.211</td>\n",
       "    </tr>\n",
       "    <tr>\n",
       "      <th>1</th>\n",
       "      <td>2011</td>\n",
       "      <td>1555</td>\n",
       "      <td>3791315</td>\n",
       "      <td>41.015</td>\n",
       "    </tr>\n",
       "    <tr>\n",
       "      <th>2</th>\n",
       "      <td>2012</td>\n",
       "      <td>1460</td>\n",
       "      <td>3815171</td>\n",
       "      <td>38.268</td>\n",
       "    </tr>\n",
       "    <tr>\n",
       "      <th>3</th>\n",
       "      <td>2013</td>\n",
       "      <td>1511</td>\n",
       "      <td>3914421</td>\n",
       "      <td>38.601</td>\n",
       "    </tr>\n",
       "    <tr>\n",
       "      <th>4</th>\n",
       "      <td>2014</td>\n",
       "      <td>1521</td>\n",
       "      <td>3943885</td>\n",
       "      <td>38.566</td>\n",
       "    </tr>\n",
       "    <tr>\n",
       "      <th>5</th>\n",
       "      <td>2015</td>\n",
       "      <td>1487</td>\n",
       "      <td>3972202</td>\n",
       "      <td>37.435</td>\n",
       "    </tr>\n",
       "    <tr>\n",
       "      <th>6</th>\n",
       "      <td>2016</td>\n",
       "      <td>1301</td>\n",
       "      <td>3999415</td>\n",
       "      <td>32.530</td>\n",
       "    </tr>\n",
       "    <tr>\n",
       "      <th>7</th>\n",
       "      <td>2017</td>\n",
       "      <td>1314</td>\n",
       "      <td>4025558</td>\n",
       "      <td>32.641</td>\n",
       "    </tr>\n",
       "    <tr>\n",
       "      <th>8</th>\n",
       "      <td>2018</td>\n",
       "      <td>1201</td>\n",
       "      <td>3996496</td>\n",
       "      <td>30.051</td>\n",
       "    </tr>\n",
       "    <tr>\n",
       "      <th>9</th>\n",
       "      <td>2019</td>\n",
       "      <td>861</td>\n",
       "      <td>4018127</td>\n",
       "      <td>21.428</td>\n",
       "    </tr>\n",
       "    <tr>\n",
       "      <th>10</th>\n",
       "      <td>2020</td>\n",
       "      <td>1092</td>\n",
       "      <td>4039277</td>\n",
       "      <td>27.035</td>\n",
       "    </tr>\n",
       "    <tr>\n",
       "      <th>11</th>\n",
       "      <td>2021</td>\n",
       "      <td>1099</td>\n",
       "      <td>4059905</td>\n",
       "      <td>27.070</td>\n",
       "    </tr>\n",
       "    <tr>\n",
       "      <th>12</th>\n",
       "      <td>2022</td>\n",
       "      <td>1072</td>\n",
       "      <td>3974687</td>\n",
       "      <td>26.971</td>\n",
       "    </tr>\n",
       "  </tbody>\n",
       "</table>\n",
       "</div>"
      ],
      "text/plain": [
       "     ANO  HOMICIDIOS  POPULACAO    TAXA\n",
       "0   2010        1364    3766834  36.211\n",
       "1   2011        1555    3791315  41.015\n",
       "2   2012        1460    3815171  38.268\n",
       "3   2013        1511    3914421  38.601\n",
       "4   2014        1521    3943885  38.566\n",
       "5   2015        1487    3972202  37.435\n",
       "6   2016        1301    3999415  32.530\n",
       "7   2017        1314    4025558  32.641\n",
       "8   2018        1201    3996496  30.051\n",
       "9   2019         861    4018127  21.428\n",
       "10  2020        1092    4039277  27.035\n",
       "11  2021        1099    4059905  27.070\n",
       "12  2022        1072    3974687  26.971"
      ]
     },
     "execution_count": 19,
     "metadata": {},
     "output_type": "execute_result"
    }
   ],
   "source": [
    "hom = taxa_hom.assign(TAXA=lambda x: round((x['HOMICIDIOS']/x['POPULACAO']) * 100000, 3))\n",
    "hom"
   ]
  },
  {
   "cell_type": "code",
   "execution_count": 20,
   "metadata": {},
   "outputs": [
    {
     "data": {
      "text/plain": [
       "<Axes: xlabel='ANO'>"
      ]
     },
     "execution_count": 20,
     "metadata": {},
     "output_type": "execute_result"
    },
    {
     "data": {
      "image/png": "[encoded data removed]",
      "text/plain": [
       "<Figure size 640x480 with 1 Axes>"
      ]
     },
     "metadata": {},
     "output_type": "display_data"
    }
   ],
   "source": [
    "hom.groupby('ANO')['TAXA'].sum().plot()"
   ]
  },
  {
   "cell_type": "code",
   "execution_count": 21,
   "metadata": {},
   "outputs": [],
   "source": [
    "std_hom = hom.filter(['HOMICIDIOS', 'TAXA'])['TAXA'].std()"
   ]
  },
  {
   "cell_type": "markdown",
   "metadata": {},
   "source": [
    "# Lendo dados do IPEA para comparação"
   ]
  },
  {
   "cell_type": "code",
   "execution_count": 22,
   "metadata": {},
   "outputs": [
    {
     "data": {
      "text/plain": [
       "0.106"
      ]
     },
     "execution_count": 22,
     "metadata": {},
     "output_type": "execute_result"
    }
   ],
   "source": [
    "taxa_ipea = pd.read_csv('data/taxa-homicidios-2010-01--01-2022-01--01.csv', sep=';').rename(columns={'período': 'ANO', 'valor': 'TAXA'}).filter(['ANO', 'TAXA'])\n",
    "std_ipea = taxa_ipea['TAXA'].std()\n",
    "\n",
    "round(abs(std_hom - std_ipea), 3)"
   ]
  },
  {
   "cell_type": "markdown",
   "metadata": {},
   "source": [
    "# Analisando dados pela escolaridade"
   ]
  },
  {
   "cell_type": "code",
   "execution_count": 23,
   "metadata": {},
   "outputs": [
    {
     "data": {
      "text/plain": [
       "ESC2010\n",
       "0.0     335\n",
       "1.0    2009\n",
       "2.0    1319\n",
       "3.0     505\n",
       "4.0      43\n",
       "5.0      85\n",
       "9.0    4353\n",
       "Name: CONTADOR, dtype: int64"
      ]
     },
     "execution_count": 23,
     "metadata": {},
     "output_type": "execute_result"
    }
   ],
   "source": [
    "dist_esc = df_hom.groupby('ESC2010')['CONTADOR'].count()\n",
    "dist_esc"
   ]
  },
  {
   "cell_type": "code",
   "execution_count": 24,
   "metadata": {},
   "outputs": [
    {
     "data": {
      "text/html": [
       "<div>\n",
       "<style scoped>\n",
       "    .dataframe tbody tr th:only-of-type {\n",
       "        vertical-align: middle;\n",
       "    }\n",
       "\n",
       "    .dataframe tbody tr th {\n",
       "        vertical-align: top;\n",
       "    }\n",
       "\n",
       "    .dataframe thead th {\n",
       "        text-align: right;\n",
       "    }\n",
       "</style>\n",
       "<table border=\"1\" class=\"dataframe\">\n",
       "  <thead>\n",
       "    <tr style=\"text-align: right;\">\n",
       "      <th></th>\n",
       "      <th>DTOBITO</th>\n",
       "      <th>CONTADOR</th>\n",
       "      <th>OCUP</th>\n",
       "      <th>HORAOBITO</th>\n",
       "      <th>NATURAL</th>\n",
       "      <th>CODMUNNATU</th>\n",
       "      <th>DTNASC</th>\n",
       "      <th>IDADE</th>\n",
       "      <th>SEXO</th>\n",
       "      <th>RACACOR</th>\n",
       "      <th>ESTCIV</th>\n",
       "      <th>ESC2010</th>\n",
       "      <th>CODMUNRES</th>\n",
       "      <th>LOCOCOR</th>\n",
       "      <th>CODMUNOCOR</th>\n",
       "      <th>CIRCOBITO</th>\n",
       "      <th>FONTE</th>\n",
       "      <th>TIPOBITO</th>\n",
       "    </tr>\n",
       "  </thead>\n",
       "  <tbody>\n",
       "    <tr>\n",
       "      <th>2920</th>\n",
       "      <td>2012</td>\n",
       "      <td>1429</td>\n",
       "      <td>621005</td>\n",
       "      <td>0510</td>\n",
       "      <td>NaN</td>\n",
       "      <td>NaN</td>\n",
       "      <td>20021977</td>\n",
       "      <td>435</td>\n",
       "      <td>1</td>\n",
       "      <td>4</td>\n",
       "      <td>1</td>\n",
       "      <td>2.0</td>\n",
       "      <td>251680</td>\n",
       "      <td>5</td>\n",
       "      <td>292400</td>\n",
       "      <td>3</td>\n",
       "      <td>1</td>\n",
       "      <td>2</td>\n",
       "    </tr>\n",
       "    <tr>\n",
       "      <th>2933</th>\n",
       "      <td>2012</td>\n",
       "      <td>1484</td>\n",
       "      <td>NaN</td>\n",
       "      <td>2230</td>\n",
       "      <td>NaN</td>\n",
       "      <td>NaN</td>\n",
       "      <td>10021987</td>\n",
       "      <td>424</td>\n",
       "      <td>1</td>\n",
       "      <td>4</td>\n",
       "      <td>1</td>\n",
       "      <td>1.0</td>\n",
       "      <td>251010</td>\n",
       "      <td>4</td>\n",
       "      <td>251010</td>\n",
       "      <td>3</td>\n",
       "      <td>NaN</td>\n",
       "      <td>2</td>\n",
       "    </tr>\n",
       "    <tr>\n",
       "      <th>2934</th>\n",
       "      <td>2012</td>\n",
       "      <td>1487</td>\n",
       "      <td>717020</td>\n",
       "      <td>2300</td>\n",
       "      <td>NaN</td>\n",
       "      <td>NaN</td>\n",
       "      <td>01061979</td>\n",
       "      <td>432</td>\n",
       "      <td>1</td>\n",
       "      <td>4</td>\n",
       "      <td>5</td>\n",
       "      <td>1.0</td>\n",
       "      <td>250400</td>\n",
       "      <td>4</td>\n",
       "      <td>250400</td>\n",
       "      <td>3</td>\n",
       "      <td>NaN</td>\n",
       "      <td>2</td>\n",
       "    </tr>\n",
       "    <tr>\n",
       "      <th>2937</th>\n",
       "      <td>2012</td>\n",
       "      <td>1490</td>\n",
       "      <td>622020</td>\n",
       "      <td>NaN</td>\n",
       "      <td>NaN</td>\n",
       "      <td>NaN</td>\n",
       "      <td>10091990</td>\n",
       "      <td>421</td>\n",
       "      <td>1</td>\n",
       "      <td>1</td>\n",
       "      <td>1</td>\n",
       "      <td>3.0</td>\n",
       "      <td>251510</td>\n",
       "      <td>5</td>\n",
       "      <td>251510</td>\n",
       "      <td>3</td>\n",
       "      <td>NaN</td>\n",
       "      <td>2</td>\n",
       "    </tr>\n",
       "    <tr>\n",
       "      <th>2947</th>\n",
       "      <td>2012</td>\n",
       "      <td>1639</td>\n",
       "      <td>622020</td>\n",
       "      <td>NaN</td>\n",
       "      <td>NaN</td>\n",
       "      <td>NaN</td>\n",
       "      <td>03071995</td>\n",
       "      <td>416</td>\n",
       "      <td>1</td>\n",
       "      <td>4</td>\n",
       "      <td>9</td>\n",
       "      <td>2.0</td>\n",
       "      <td>250760</td>\n",
       "      <td>4</td>\n",
       "      <td>250760</td>\n",
       "      <td>3</td>\n",
       "      <td>NaN</td>\n",
       "      <td>2</td>\n",
       "    </tr>\n",
       "    <tr>\n",
       "      <th>...</th>\n",
       "      <td>...</td>\n",
       "      <td>...</td>\n",
       "      <td>...</td>\n",
       "      <td>...</td>\n",
       "      <td>...</td>\n",
       "      <td>...</td>\n",
       "      <td>...</td>\n",
       "      <td>...</td>\n",
       "      <td>...</td>\n",
       "      <td>...</td>\n",
       "      <td>...</td>\n",
       "      <td>...</td>\n",
       "      <td>...</td>\n",
       "      <td>...</td>\n",
       "      <td>...</td>\n",
       "      <td>...</td>\n",
       "      <td>...</td>\n",
       "      <td>...</td>\n",
       "    </tr>\n",
       "    <tr>\n",
       "      <th>16818</th>\n",
       "      <td>2022</td>\n",
       "      <td>1534790</td>\n",
       "      <td>NaN</td>\n",
       "      <td>1800</td>\n",
       "      <td>825</td>\n",
       "      <td>251370</td>\n",
       "      <td>15022000</td>\n",
       "      <td>422</td>\n",
       "      <td>1</td>\n",
       "      <td>4</td>\n",
       "      <td>1</td>\n",
       "      <td>2.0</td>\n",
       "      <td>251370</td>\n",
       "      <td>5</td>\n",
       "      <td>250750</td>\n",
       "      <td>3</td>\n",
       "      <td>1</td>\n",
       "      <td>2</td>\n",
       "    </tr>\n",
       "    <tr>\n",
       "      <th>16821</th>\n",
       "      <td>2022</td>\n",
       "      <td>1534796</td>\n",
       "      <td>NaN</td>\n",
       "      <td>0100</td>\n",
       "      <td>825</td>\n",
       "      <td>250750</td>\n",
       "      <td>21111994</td>\n",
       "      <td>427</td>\n",
       "      <td>1</td>\n",
       "      <td>4</td>\n",
       "      <td>1</td>\n",
       "      <td>2.0</td>\n",
       "      <td>250180</td>\n",
       "      <td>4</td>\n",
       "      <td>250180</td>\n",
       "      <td>3</td>\n",
       "      <td>1</td>\n",
       "      <td>2</td>\n",
       "    </tr>\n",
       "    <tr>\n",
       "      <th>16828</th>\n",
       "      <td>2022</td>\n",
       "      <td>1539848</td>\n",
       "      <td>NaN</td>\n",
       "      <td>0500</td>\n",
       "      <td>826</td>\n",
       "      <td>260765</td>\n",
       "      <td>04071977</td>\n",
       "      <td>445</td>\n",
       "      <td>2</td>\n",
       "      <td>4</td>\n",
       "      <td>1</td>\n",
       "      <td>1.0</td>\n",
       "      <td>251370</td>\n",
       "      <td>4</td>\n",
       "      <td>251370</td>\n",
       "      <td>3</td>\n",
       "      <td>1</td>\n",
       "      <td>2</td>\n",
       "    </tr>\n",
       "    <tr>\n",
       "      <th>16835</th>\n",
       "      <td>2022</td>\n",
       "      <td>1541331</td>\n",
       "      <td>NaN</td>\n",
       "      <td>NaN</td>\n",
       "      <td>827</td>\n",
       "      <td>270350</td>\n",
       "      <td>13061983</td>\n",
       "      <td>439</td>\n",
       "      <td>2</td>\n",
       "      <td>4</td>\n",
       "      <td>1</td>\n",
       "      <td>2.0</td>\n",
       "      <td>251370</td>\n",
       "      <td>5</td>\n",
       "      <td>251370</td>\n",
       "      <td>3</td>\n",
       "      <td>NaN</td>\n",
       "      <td>2</td>\n",
       "    </tr>\n",
       "    <tr>\n",
       "      <th>16836</th>\n",
       "      <td>2022</td>\n",
       "      <td>1541334</td>\n",
       "      <td>NaN</td>\n",
       "      <td>1520</td>\n",
       "      <td>825</td>\n",
       "      <td>251370</td>\n",
       "      <td>12062002</td>\n",
       "      <td>420</td>\n",
       "      <td>1</td>\n",
       "      <td>NaN</td>\n",
       "      <td>1</td>\n",
       "      <td>2.0</td>\n",
       "      <td>251370</td>\n",
       "      <td>5</td>\n",
       "      <td>250730</td>\n",
       "      <td>3</td>\n",
       "      <td>NaN</td>\n",
       "      <td>2</td>\n",
       "    </tr>\n",
       "  </tbody>\n",
       "</table>\n",
       "<p>4168 rows × 18 columns</p>\n",
       "</div>"
      ],
      "text/plain": [
       "      DTOBITO CONTADOR    OCUP HORAOBITO NATURAL CODMUNNATU    DTNASC IDADE  \\\n",
       "2920     2012     1429  621005      0510     NaN        NaN  20021977   435   \n",
       "2933     2012     1484     NaN      2230     NaN        NaN  10021987   424   \n",
       "2934     2012     1487  717020      2300     NaN        NaN  01061979   432   \n",
       "2937     2012     1490  622020       NaN     NaN        NaN  10091990   421   \n",
       "2947     2012     1639  622020       NaN     NaN        NaN  03071995   416   \n",
       "...       ...      ...     ...       ...     ...        ...       ...   ...   \n",
       "16818    2022  1534790     NaN      1800     825     251370  15022000   422   \n",
       "16821    2022  1534796     NaN      0100     825     250750  21111994   427   \n",
       "16828    2022  1539848     NaN      0500     826     260765  04071977   445   \n",
       "16835    2022  1541331     NaN       NaN     827     270350  13061983   439   \n",
       "16836    2022  1541334     NaN      1520     825     251370  12062002   420   \n",
       "\n",
       "      SEXO RACACOR ESTCIV  ESC2010 CODMUNRES LOCOCOR CODMUNOCOR CIRCOBITO  \\\n",
       "2920     1       4      1      2.0    251680       5     292400         3   \n",
       "2933     1       4      1      1.0    251010       4     251010         3   \n",
       "2934     1       4      5      1.0    250400       4     250400         3   \n",
       "2937     1       1      1      3.0    251510       5     251510         3   \n",
       "2947     1       4      9      2.0    250760       4     250760         3   \n",
       "...    ...     ...    ...      ...       ...     ...        ...       ...   \n",
       "16818    1       4      1      2.0    251370       5     250750         3   \n",
       "16821    1       4      1      2.0    250180       4     250180         3   \n",
       "16828    2       4      1      1.0    251370       4     251370         3   \n",
       "16835    2       4      1      2.0    251370       5     251370         3   \n",
       "16836    1     NaN      1      2.0    251370       5     250730         3   \n",
       "\n",
       "      FONTE TIPOBITO  \n",
       "2920      1        2  \n",
       "2933    NaN        2  \n",
       "2934    NaN        2  \n",
       "2937    NaN        2  \n",
       "2947    NaN        2  \n",
       "...     ...      ...  \n",
       "16818     1        2  \n",
       "16821     1        2  \n",
       "16828     1        2  \n",
       "16835   NaN        2  \n",
       "16836   NaN        2  \n",
       "\n",
       "[4168 rows x 18 columns]"
      ]
     },
     "execution_count": 24,
     "metadata": {},
     "output_type": "execute_result"
    }
   ],
   "source": [
    "df_hom_base = df_hom.query('ESC2010 <= 3') # filtrando por educação basica (ef1, ef2, em)\n",
    "df_hom_base"
   ]
  },
  {
   "cell_type": "markdown",
   "metadata": {},
   "source": [
    "Verificando de acordo com as informações de identificação e comparando (raça, idade, situação conjugal, etc.)"
   ]
  },
  {
   "cell_type": "markdown",
   "metadata": {},
   "source": [
    "idade"
   ]
  },
  {
   "cell_type": "code",
   "execution_count": 25,
   "metadata": {},
   "outputs": [
    {
     "name": "stderr",
     "output_type": "stream",
     "text": [
      "C:\\Users\\Windows\\AppData\\Local\\Temp\\ipykernel_19784\\558376402.py:2: SettingWithCopyWarning: \n",
      "A value is trying to be set on a copy of a slice from a DataFrame.\n",
      "Try using .loc[row_indexer,col_indexer] = value instead\n",
      "\n",
      "See the caveats in the documentation: https://pandas.pydata.org/pandas-docs/stable/user_guide/indexing.html#returning-a-view-versus-a-copy\n",
      "  df_hom_base['IDADE'] = df_hom_base['IDADE'].str[1:]\n"
     ]
    },
    {
     "data": {
      "text/html": [
       "<div>\n",
       "<style scoped>\n",
       "    .dataframe tbody tr th:only-of-type {\n",
       "        vertical-align: middle;\n",
       "    }\n",
       "\n",
       "    .dataframe tbody tr th {\n",
       "        vertical-align: top;\n",
       "    }\n",
       "\n",
       "    .dataframe thead th {\n",
       "        text-align: right;\n",
       "    }\n",
       "</style>\n",
       "<table border=\"1\" class=\"dataframe\">\n",
       "  <thead>\n",
       "    <tr style=\"text-align: right;\">\n",
       "      <th></th>\n",
       "      <th>DTOBITO</th>\n",
       "      <th>CONTADOR</th>\n",
       "      <th>OCUP</th>\n",
       "      <th>HORAOBITO</th>\n",
       "      <th>NATURAL</th>\n",
       "      <th>CODMUNNATU</th>\n",
       "      <th>DTNASC</th>\n",
       "      <th>IDADE</th>\n",
       "      <th>SEXO</th>\n",
       "      <th>RACACOR</th>\n",
       "      <th>ESTCIV</th>\n",
       "      <th>ESC2010</th>\n",
       "      <th>CODMUNRES</th>\n",
       "      <th>LOCOCOR</th>\n",
       "      <th>CODMUNOCOR</th>\n",
       "      <th>CIRCOBITO</th>\n",
       "      <th>FONTE</th>\n",
       "      <th>TIPOBITO</th>\n",
       "    </tr>\n",
       "  </thead>\n",
       "  <tbody>\n",
       "    <tr>\n",
       "      <th>2920</th>\n",
       "      <td>2012</td>\n",
       "      <td>1429</td>\n",
       "      <td>621005</td>\n",
       "      <td>0510</td>\n",
       "      <td>NaN</td>\n",
       "      <td>NaN</td>\n",
       "      <td>20021977</td>\n",
       "      <td>35</td>\n",
       "      <td>1</td>\n",
       "      <td>4</td>\n",
       "      <td>1</td>\n",
       "      <td>2.0</td>\n",
       "      <td>251680</td>\n",
       "      <td>5</td>\n",
       "      <td>292400</td>\n",
       "      <td>3</td>\n",
       "      <td>1</td>\n",
       "      <td>2</td>\n",
       "    </tr>\n",
       "    <tr>\n",
       "      <th>2933</th>\n",
       "      <td>2012</td>\n",
       "      <td>1484</td>\n",
       "      <td>NaN</td>\n",
       "      <td>2230</td>\n",
       "      <td>NaN</td>\n",
       "      <td>NaN</td>\n",
       "      <td>10021987</td>\n",
       "      <td>24</td>\n",
       "      <td>1</td>\n",
       "      <td>4</td>\n",
       "      <td>1</td>\n",
       "      <td>1.0</td>\n",
       "      <td>251010</td>\n",
       "      <td>4</td>\n",
       "      <td>251010</td>\n",
       "      <td>3</td>\n",
       "      <td>NaN</td>\n",
       "      <td>2</td>\n",
       "    </tr>\n",
       "    <tr>\n",
       "      <th>2934</th>\n",
       "      <td>2012</td>\n",
       "      <td>1487</td>\n",
       "      <td>717020</td>\n",
       "      <td>2300</td>\n",
       "      <td>NaN</td>\n",
       "      <td>NaN</td>\n",
       "      <td>01061979</td>\n",
       "      <td>32</td>\n",
       "      <td>1</td>\n",
       "      <td>4</td>\n",
       "      <td>5</td>\n",
       "      <td>1.0</td>\n",
       "      <td>250400</td>\n",
       "      <td>4</td>\n",
       "      <td>250400</td>\n",
       "      <td>3</td>\n",
       "      <td>NaN</td>\n",
       "      <td>2</td>\n",
       "    </tr>\n",
       "    <tr>\n",
       "      <th>2937</th>\n",
       "      <td>2012</td>\n",
       "      <td>1490</td>\n",
       "      <td>622020</td>\n",
       "      <td>NaN</td>\n",
       "      <td>NaN</td>\n",
       "      <td>NaN</td>\n",
       "      <td>10091990</td>\n",
       "      <td>21</td>\n",
       "      <td>1</td>\n",
       "      <td>1</td>\n",
       "      <td>1</td>\n",
       "      <td>3.0</td>\n",
       "      <td>251510</td>\n",
       "      <td>5</td>\n",
       "      <td>251510</td>\n",
       "      <td>3</td>\n",
       "      <td>NaN</td>\n",
       "      <td>2</td>\n",
       "    </tr>\n",
       "    <tr>\n",
       "      <th>2947</th>\n",
       "      <td>2012</td>\n",
       "      <td>1639</td>\n",
       "      <td>622020</td>\n",
       "      <td>NaN</td>\n",
       "      <td>NaN</td>\n",
       "      <td>NaN</td>\n",
       "      <td>03071995</td>\n",
       "      <td>16</td>\n",
       "      <td>1</td>\n",
       "      <td>4</td>\n",
       "      <td>9</td>\n",
       "      <td>2.0</td>\n",
       "      <td>250760</td>\n",
       "      <td>4</td>\n",
       "      <td>250760</td>\n",
       "      <td>3</td>\n",
       "      <td>NaN</td>\n",
       "      <td>2</td>\n",
       "    </tr>\n",
       "    <tr>\n",
       "      <th>...</th>\n",
       "      <td>...</td>\n",
       "      <td>...</td>\n",
       "      <td>...</td>\n",
       "      <td>...</td>\n",
       "      <td>...</td>\n",
       "      <td>...</td>\n",
       "      <td>...</td>\n",
       "      <td>...</td>\n",
       "      <td>...</td>\n",
       "      <td>...</td>\n",
       "      <td>...</td>\n",
       "      <td>...</td>\n",
       "      <td>...</td>\n",
       "      <td>...</td>\n",
       "      <td>...</td>\n",
       "      <td>...</td>\n",
       "      <td>...</td>\n",
       "      <td>...</td>\n",
       "    </tr>\n",
       "    <tr>\n",
       "      <th>16818</th>\n",
       "      <td>2022</td>\n",
       "      <td>1534790</td>\n",
       "      <td>NaN</td>\n",
       "      <td>1800</td>\n",
       "      <td>825</td>\n",
       "      <td>251370</td>\n",
       "      <td>15022000</td>\n",
       "      <td>22</td>\n",
       "      <td>1</td>\n",
       "      <td>4</td>\n",
       "      <td>1</td>\n",
       "      <td>2.0</td>\n",
       "      <td>251370</td>\n",
       "      <td>5</td>\n",
       "      <td>250750</td>\n",
       "      <td>3</td>\n",
       "      <td>1</td>\n",
       "      <td>2</td>\n",
       "    </tr>\n",
       "    <tr>\n",
       "      <th>16821</th>\n",
       "      <td>2022</td>\n",
       "      <td>1534796</td>\n",
       "      <td>NaN</td>\n",
       "      <td>0100</td>\n",
       "      <td>825</td>\n",
       "      <td>250750</td>\n",
       "      <td>21111994</td>\n",
       "      <td>27</td>\n",
       "      <td>1</td>\n",
       "      <td>4</td>\n",
       "      <td>1</td>\n",
       "      <td>2.0</td>\n",
       "      <td>250180</td>\n",
       "      <td>4</td>\n",
       "      <td>250180</td>\n",
       "      <td>3</td>\n",
       "      <td>1</td>\n",
       "      <td>2</td>\n",
       "    </tr>\n",
       "    <tr>\n",
       "      <th>16828</th>\n",
       "      <td>2022</td>\n",
       "      <td>1539848</td>\n",
       "      <td>NaN</td>\n",
       "      <td>0500</td>\n",
       "      <td>826</td>\n",
       "      <td>260765</td>\n",
       "      <td>04071977</td>\n",
       "      <td>45</td>\n",
       "      <td>2</td>\n",
       "      <td>4</td>\n",
       "      <td>1</td>\n",
       "      <td>1.0</td>\n",
       "      <td>251370</td>\n",
       "      <td>4</td>\n",
       "      <td>251370</td>\n",
       "      <td>3</td>\n",
       "      <td>1</td>\n",
       "      <td>2</td>\n",
       "    </tr>\n",
       "    <tr>\n",
       "      <th>16835</th>\n",
       "      <td>2022</td>\n",
       "      <td>1541331</td>\n",
       "      <td>NaN</td>\n",
       "      <td>NaN</td>\n",
       "      <td>827</td>\n",
       "      <td>270350</td>\n",
       "      <td>13061983</td>\n",
       "      <td>39</td>\n",
       "      <td>2</td>\n",
       "      <td>4</td>\n",
       "      <td>1</td>\n",
       "      <td>2.0</td>\n",
       "      <td>251370</td>\n",
       "      <td>5</td>\n",
       "      <td>251370</td>\n",
       "      <td>3</td>\n",
       "      <td>NaN</td>\n",
       "      <td>2</td>\n",
       "    </tr>\n",
       "    <tr>\n",
       "      <th>16836</th>\n",
       "      <td>2022</td>\n",
       "      <td>1541334</td>\n",
       "      <td>NaN</td>\n",
       "      <td>1520</td>\n",
       "      <td>825</td>\n",
       "      <td>251370</td>\n",
       "      <td>12062002</td>\n",
       "      <td>20</td>\n",
       "      <td>1</td>\n",
       "      <td>NaN</td>\n",
       "      <td>1</td>\n",
       "      <td>2.0</td>\n",
       "      <td>251370</td>\n",
       "      <td>5</td>\n",
       "      <td>250730</td>\n",
       "      <td>3</td>\n",
       "      <td>NaN</td>\n",
       "      <td>2</td>\n",
       "    </tr>\n",
       "  </tbody>\n",
       "</table>\n",
       "<p>4166 rows × 18 columns</p>\n",
       "</div>"
      ],
      "text/plain": [
       "      DTOBITO CONTADOR    OCUP HORAOBITO NATURAL CODMUNNATU    DTNASC IDADE  \\\n",
       "2920     2012     1429  621005      0510     NaN        NaN  20021977    35   \n",
       "2933     2012     1484     NaN      2230     NaN        NaN  10021987    24   \n",
       "2934     2012     1487  717020      2300     NaN        NaN  01061979    32   \n",
       "2937     2012     1490  622020       NaN     NaN        NaN  10091990    21   \n",
       "2947     2012     1639  622020       NaN     NaN        NaN  03071995    16   \n",
       "...       ...      ...     ...       ...     ...        ...       ...   ...   \n",
       "16818    2022  1534790     NaN      1800     825     251370  15022000    22   \n",
       "16821    2022  1534796     NaN      0100     825     250750  21111994    27   \n",
       "16828    2022  1539848     NaN      0500     826     260765  04071977    45   \n",
       "16835    2022  1541331     NaN       NaN     827     270350  13061983    39   \n",
       "16836    2022  1541334     NaN      1520     825     251370  12062002    20   \n",
       "\n",
       "      SEXO RACACOR ESTCIV  ESC2010 CODMUNRES LOCOCOR CODMUNOCOR CIRCOBITO  \\\n",
       "2920     1       4      1      2.0    251680       5     292400         3   \n",
       "2933     1       4      1      1.0    251010       4     251010         3   \n",
       "2934     1       4      5      1.0    250400       4     250400         3   \n",
       "2937     1       1      1      3.0    251510       5     251510         3   \n",
       "2947     1       4      9      2.0    250760       4     250760         3   \n",
       "...    ...     ...    ...      ...       ...     ...        ...       ...   \n",
       "16818    1       4      1      2.0    251370       5     250750         3   \n",
       "16821    1       4      1      2.0    250180       4     250180         3   \n",
       "16828    2       4      1      1.0    251370       4     251370         3   \n",
       "16835    2       4      1      2.0    251370       5     251370         3   \n",
       "16836    1     NaN      1      2.0    251370       5     250730         3   \n",
       "\n",
       "      FONTE TIPOBITO  \n",
       "2920      1        2  \n",
       "2933    NaN        2  \n",
       "2934    NaN        2  \n",
       "2937    NaN        2  \n",
       "2947    NaN        2  \n",
       "...     ...      ...  \n",
       "16818     1        2  \n",
       "16821     1        2  \n",
       "16828     1        2  \n",
       "16835   NaN        2  \n",
       "16836   NaN        2  \n",
       "\n",
       "[4166 rows x 18 columns]"
      ]
     },
     "execution_count": 25,
     "metadata": {},
     "output_type": "execute_result"
    }
   ],
   "source": [
    "df_hom_base = df_hom_base.query('IDADE.str.startswith(\"4\")') # filtrando por idade em anos e eliminando os que tem 999 ou bebês\n",
    "df_hom_base['IDADE'] = df_hom_base['IDADE'].str[1:]\n",
    "df_hom_base"
   ]
  },
  {
   "cell_type": "markdown",
   "metadata": {},
   "source": [
    "6 a 10 anos -> fundamental 1\n",
    "\n",
    "11 a 14 anos -> fundamental 2\n",
    "\n",
    "15 a 17 anos -> medio\n",
    "\n",
    "lei de diretrizes"
   ]
  },
  {
   "cell_type": "code",
   "execution_count": 26,
   "metadata": {},
   "outputs": [],
   "source": [
    "df_hom_base = df_hom_base.astype({'IDADE': int})\n",
    "\n",
    "# não temos o dado da escolaridade que está cursando, portanto pegamos a próxima fase, que indica baixa escolaridade\n",
    "\n",
    "# para fundamental 1:\n",
    "df_hom_base.query('IDADE > 10 and IDADE <= 18 and ESC2010 <= 0')\n",
    "\n",
    "# para fundamental 2:\n",
    "df_hom_base.query('IDADE > 14 and IDADE <= 18 and ESC2010 <= 1')\n",
    "\n",
    "# para medio:\n",
    "# grupo 1 -> 18-24\n",
    "df_hom_base_18 = df_hom_base.query('18 <= IDADE <= 24 and ESC2010 <= 2')['IDADE'].count() # 1088 casos\n",
    "\n",
    "# grupo 2 -> 25-34\n",
    "df_hom_base_25 = df_hom_base.query('25 <= IDADE <= 34 and ESC2010 <= 2')['IDADE'].count() # 1084\n",
    "\n",
    "# grupo 3 -> 35-44\n",
    "df_hom_base_35 = df_hom_base.query('35 <= IDADE <= 44 and ESC2010 <= 2')['IDADE'].count() # 581\n",
    "\n",
    "# grupo 4 -> 45-54\n",
    "df_hom_base_45 = df_hom_base.query('45 <= IDADE <= 54 and ESC2010 <= 2')['IDADE'].count() # 267\n",
    "\n",
    "# grupo 5 -> 55-64\n",
    "df_hom_base_55 = df_hom_base.query('55 <= IDADE <= 64 and ESC2010 <= 2')['IDADE'].count() # 114\n",
    "\n",
    "# grupo 6 -> 65 =>\n",
    "df_hom_base_65 = df_hom_base.query('IDADE >= 65 and ESC2010 <= 2')['IDADE'].count() # 62"
   ]
  },
  {
   "cell_type": "code",
   "execution_count": 27,
   "metadata": {},
   "outputs": [],
   "source": [
    "idade_series = pd.Series({'18-25': df_hom_base_18, '25-35': df_hom_base_25, '35-45': df_hom_base_35, '45-55': df_hom_base_45, '55-65': df_hom_base_55,'65+': df_hom_base_65})"
   ]
  },
  {
   "cell_type": "code",
   "execution_count": 28,
   "metadata": {},
   "outputs": [
    {
     "data": {
      "text/plain": [
       "<Axes: >"
      ]
     },
     "execution_count": 28,
     "metadata": {},
     "output_type": "execute_result"
    },
    {
     "data": {
      "image/png": "[encoded data removed]",
      "text/plain": [
       "<Figure size 640x480 with 1 Axes>"
      ]
     },
     "metadata": {},
     "output_type": "display_data"
    }
   ],
   "source": [
    "idade_series.plot(kind='bar')"
   ]
  },
  {
   "cell_type": "markdown",
   "metadata": {},
   "source": [
    "raça"
   ]
  },
  {
   "cell_type": "code",
   "execution_count": 29,
   "metadata": {},
   "outputs": [
    {
     "data": {
      "text/plain": [
       "<Axes: xlabel='RACACOR'>"
      ]
     },
     "execution_count": 29,
     "metadata": {},
     "output_type": "execute_result"
    },
    {
     "data": {
      "image/png": "[encoded data removed]",
      "text/plain": [
       "<Figure size 1000x600 with 1 Axes>"
      ]
     },
     "metadata": {},
     "output_type": "display_data"
    }
   ],
   "source": [
    "df_hom_base_raca = df_hom_base['RACACOR'].replace('999', nan).dropna().reset_index().drop('index', axis=1)\n",
    "df_hom_base_raca.groupby('RACACOR')['RACACOR'].count().plot(kind='bar', figsize=(10, 6))"
   ]
  },
  {
   "cell_type": "code",
   "execution_count": 51,
   "metadata": {},
   "outputs": [
    {
     "data": {
      "text/plain": [
       "<Axes: xlabel='FONTE'>"
      ]
     },
     "execution_count": 51,
     "metadata": {},
     "output_type": "execute_result"
    },
    {
     "data": {
      "image/png": "[encoded data removed]",
      "text/plain": [
       "<Figure size 640x480 with 1 Axes>"
      ]
     },
     "metadata": {},
     "output_type": "display_data"
    }
   ],
   "source": [
    "df_hom_base.query('RACACOR == \"4\" and ESC2010 <= 2 and IDADE >= 18').groupby('FONTE')['FONTE'].count().plot(kind='bar')"
   ]
  },
  {
   "cell_type": "markdown",
   "metadata": {},
   "source": [
    "gênero"
   ]
  },
  {
   "cell_type": "code",
   "execution_count": 32,
   "metadata": {},
   "outputs": [
    {
     "data": {
      "text/plain": [
       "<Axes: xlabel='SEXO'>"
      ]
     },
     "execution_count": 32,
     "metadata": {},
     "output_type": "execute_result"
    },
    {
     "data": {
      "image/png": "[encoded data removed]",
      "text/plain": [
       "<Figure size 640x480 with 1 Axes>"
      ]
     },
     "metadata": {},
     "output_type": "display_data"
    }
   ],
   "source": [
    "df_hom_base.groupby('SEXO')['SEXO'].count().plot(kind='bar')"
   ]
  },
  {
   "cell_type": "markdown",
   "metadata": {},
   "source": [
    "fonte"
   ]
  },
  {
   "cell_type": "code",
   "execution_count": 38,
   "metadata": {},
   "outputs": [
    {
     "data": {
      "text/plain": [
       "<Axes: xlabel='FONTE'>"
      ]
     },
     "execution_count": 38,
     "metadata": {},
     "output_type": "execute_result"
    },
    {
     "data": {
      "image/png": "[encoded data removed]",
      "text/plain": [
       "<Figure size 1000x600 with 1 Axes>"
      ]
     },
     "metadata": {},
     "output_type": "display_data"
    }
   ],
   "source": [
    "df_hom_base_fonte = df_hom_base['FONTE'].replace('999', nan).dropna().reset_index().drop('index', axis=1)\n",
    "df_hom_base_fonte.groupby('FONTE')['FONTE'].count().plot(kind='bar', figsize=(10, 6))"
   ]
  }
 ],
 "metadata": {
  "kernelspec": {
   "display_name": "Python 3",
   "language": "python",
   "name": "python3"
  },
  "language_info": {
   "codemirror_mode": {
    "name": "ipython",
    "version": 3
   },
   "file_extension": ".py",
   "mimetype": "text/x-python",
   "name": "python",
   "nbconvert_exporter": "python",
   "pygments_lexer": "ipython3",
   "version": "3.12.0"
  }
 },
 "nbformat": 4,
 "nbformat_minor": 2
}
