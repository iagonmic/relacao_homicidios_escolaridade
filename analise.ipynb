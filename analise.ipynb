{
 "cells": [
  {
   "cell_type": "code",
   "execution_count": 5,
   "metadata": {},
   "outputs": [],
   "source": [
    "import pandas as pd\n",
    "from dbfread import DBF\n",
    "\n",
    "df_list = []\n",
    "\n",
    "columns = ['']\n",
    "\n",
    "for i in range(13, 23):\n",
    "    file = DBF(f'data/DOPB20{i}.dbf', load=True)\n",
    "    df = pd.DataFrame(file,)\n",
    "    df_list.append(df)"
   ]
  },
  {
   "cell_type": "code",
   "execution_count": 8,
   "metadata": {},
   "outputs": [],
   "source": [
    "df_concat = pd.DataFrame()\n",
    "\n",
    "for df in df_list:\n",
    "    df_concat = pd.concat([df_concat, df])"
   ]
  },
  {
   "cell_type": "code",
   "execution_count": 46,
   "metadata": {},
   "outputs": [],
   "source": [
    "from numpy import nan\n",
    "\n",
    "df_concat = (df_concat\n",
    " .drop_duplicates()\n",
    " .replace('', nan)\n",
    " #.filter(['ESC2010', 'CIRCOBITO'])\n",
    " .query('CIRCOBITO == \"3\"')\n",
    " .astype({'ESC2010': float})\n",
    ")"
   ]
  },
  {
   "cell_type": "code",
   "execution_count": 58,
   "metadata": {},
   "outputs": [
    {
     "data": {
      "text/plain": [
       "np.float64(61.76258126655429)"
      ]
     },
     "execution_count": 58,
     "metadata": {},
     "output_type": "execute_result"
    }
   ],
   "source": [
    "qtd_linhas = df_concat.shape[0]\n",
    "\n",
    "(df_concat\n",
    " .groupby('ESC2010')['CONTADOR'].count()\n",
    " .apply(lambda x: (x/qtd_linhas) * 100).sum()\n",
    ")"
   ]
  }
 ],
 "metadata": {
  "kernelspec": {
   "display_name": "Python 3",
   "language": "python",
   "name": "python3"
  },
  "language_info": {
   "codemirror_mode": {
    "name": "ipython",
    "version": 3
   },
   "file_extension": ".py",
   "mimetype": "text/x-python",
   "name": "python",
   "nbconvert_exporter": "python",
   "pygments_lexer": "ipython3",
   "version": "3.11.9"
  }
 },
 "nbformat": 4,
 "nbformat_minor": 2
}
